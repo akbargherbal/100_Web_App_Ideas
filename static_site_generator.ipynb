{
 "cells": [
  {
   "cell_type": "code",
   "execution_count": 1,
   "metadata": {},
   "outputs": [],
   "source": [
    "import pandas as pd\n",
    "import os\n",
    "from jinja2 import Environment, FileSystemLoader\n",
    "\n",
    "# Load your DataFrame with file info\n",
    "# Assuming your DataFrame has columns: filepath, name, description\n",
    "df = pd.read_pickle('./100_WEB_APPS_IDEAS_STAGE_01.pkl')  # Replace with your actual data source\n"
   ]
  },
  {
   "cell_type": "code",
   "execution_count": 2,
   "metadata": {},
   "outputs": [],
   "source": [
    "\n",
    "# Set up Jinja2 environment\n",
    "env = Environment(loader=FileSystemLoader('templates'))\n",
    "template = env.get_template('./index_template.html')\n",
    "\n",
    "# Generate index.html with all entries\n",
    "output = template.render(\n",
    "    title=\"Web App Ideas Collection\",\n",
    "    pages=df.to_dict('records')\n",
    ")\n"
   ]
  },
  {
   "cell_type": "code",
   "execution_count": 3,
   "metadata": {},
   "outputs": [
    {
     "name": "stdout",
     "output_type": "stream",
     "text": [
      "Generated index.html with 143 web app ideas\n"
     ]
    }
   ],
   "source": [
    "\n",
    "# Write the output to index.html\n",
    "with open('index.html', 'w') as f:\n",
    "    f.write(output)\n",
    "\n",
    "print(f\"Generated index.html with {len(df)} web app ideas\")\n"
   ]
  },
  {
   "cell_type": "code",
   "execution_count": null,
   "metadata": {},
   "outputs": [],
   "source": []
  },
  {
   "cell_type": "code",
   "execution_count": null,
   "metadata": {},
   "outputs": [],
   "source": []
  }
 ],
 "metadata": {
  "kernelspec": {
   "display_name": "Python 3",
   "language": "python",
   "name": "python3"
  },
  "language_info": {
   "codemirror_mode": {
    "name": "ipython",
    "version": 3
   },
   "file_extension": ".py",
   "mimetype": "text/x-python",
   "name": "python",
   "nbconvert_exporter": "python",
   "pygments_lexer": "ipython3",
   "version": "3.12.2"
  }
 },
 "nbformat": 4,
 "nbformat_minor": 2
}
